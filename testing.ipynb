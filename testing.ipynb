{
 "nbformat": 4,
 "nbformat_minor": 2,
 "metadata": {
  "language_info": {
   "name": "python",
   "codemirror_mode": {
    "name": "ipython",
    "version": 3
   },
   "version": "3.8.1-final"
  },
  "orig_nbformat": 2,
  "file_extension": ".py",
  "mimetype": "text/x-python",
  "name": "python",
  "npconvert_exporter": "python",
  "pygments_lexer": "ipython3",
  "version": 3,
  "kernelspec": {
   "name": "python38132bit368c9ac6ea5e492196ff12bbd6754036",
   "display_name": "Python 3.8.1 32-bit"
  }
 },
 "cells": [
  {
   "cell_type": "code",
   "execution_count": 110,
   "metadata": {},
   "outputs": [],
   "source": [
    "player_1_wins = [\n",
    "    0b_0_000000_000000_010101,\n",
    "    0b_0_000000_010101_000000,\n",
    "    0b_0_010101_000000_000000,\n",
    "    0b_0_000001_000001_000001,\n",
    "    0b_0_000100_000100_000100,\n",
    "    0b_0_010000_010000_010000,\n",
    "    0b_0_010000_000100_000001,\n",
    "    0b_0_000001_000100_010000\n",
    "]\n",
    "\n",
    "player_2_wins = [\n",
    "    0b_0_000000_000000_101010,\n",
    "    0b_0_000000_101010_000000,\n",
    "    0b_0_101010_000000_000000,\n",
    "    0b_0_000010_000010_000010,\n",
    "    0b_0_001000_001000_001000,\n",
    "    0b_0_100000_100000_100000,\n",
    "    0b_0_100000_001000_000010,\n",
    "    0b_0_000010_001000_100000\n",
    "]"
   ]
  },
  {
   "cell_type": "code",
   "execution_count": 16,
   "metadata": {},
   "outputs": [],
   "source": [
    "turn_mask = 0b_1_0000_0000_0000_0000_00\n",
    "empty_board = 0b_0_0000_0000_0000_0000_00\n",
    "ones_mask = 0b_1_1111_1111_1111_1111_11\n",
    "tl_mask = 0b_0\n",
    "board_mask = 0b_0_1111_1111_1111_1111_11"
   ]
  },
  {
   "cell_type": "code",
   "execution_count": 29,
   "metadata": {},
   "outputs": [],
   "source": [
    "def get_turn(board):\n",
    "    return (board & turn_mask) >> 18"
   ]
  },
  {
   "cell_type": "code",
   "execution_count": 30,
   "metadata": {},
   "outputs": [],
   "source": [
    "def make_move(board, index):\n",
    "    assert 0 <= index <= 8\n",
    "    # Get the position of the bit to change\n",
    "    bit_index = index * 2 + get_turn(board)\n",
    "    # Set the bit at that position to 1\n",
    "    mask = 0b1<<bit_index   # Set the <bit_index>-th index to 1, o/w 0\n",
    "    board = board | mask\n",
    "    # not the first bit only\n",
    "    # i.e. 1xx...x -> 0xx...x and 0xx...x -> 1xx..x\n",
    "    board = board ^ turn_mask\n",
    "    return board"
   ]
  },
  {
   "cell_type": "code",
   "execution_count": 79,
   "metadata": {},
   "outputs": [],
   "source": [
    "def is_valid_move(board, index):\n",
    "    return get_cell(index) == 0"
   ]
  },
  {
   "cell_type": "code",
   "execution_count": 117,
   "metadata": {},
   "outputs": [],
   "source": [
    "def get_cell(board, index):\n",
    "    assert 0 <= index <= 8\n",
    "    # Create mask that is 1 at index*2 and index*2+1\n",
    "    mask = 0b11 << (index*2)\n",
    "    # Isolate for the values in the 1s' position\n",
    "    # 00 - 0, 01 - 1, 10 - 2, 11 - undefined (shouldn't ever happen)\n",
    "    return (board & mask) >> (index*2)"
   ]
  },
  {
   "cell_type": "code",
   "execution_count": 111,
   "metadata": {},
   "outputs": [],
   "source": [
    "def get_winner(board):\n",
    "\n",
    "    # Check if player 1 has won\n",
    "    for mask in player_1_wins:\n",
    "        if board & mask == mask:\n",
    "            return 1\n",
    "    \n",
    "    # Check if player 2 has won\n",
    "    for mask in player_2_wins:\n",
    "        if board & mask == mask:\n",
    "            return 2\n",
    "    \n",
    "    # Neither have won\n",
    "    return 0"
   ]
  },
  {
   "cell_type": "code",
   "execution_count": 69,
   "metadata": {},
   "outputs": [],
   "source": [
    "board = empty_board"
   ]
  },
  {
   "cell_type": "code",
   "execution_count": 116,
   "metadata": {},
   "outputs": [
    {
     "name": "stdout",
     "output_type": "stream",
     "text": "Turn:  1 , Board:  0b1000000001010010101\n"
    }
   ],
   "source": [
    "board = make_move(board, 2)\n",
    "print('Turn: ', get_turn(board), ', Board: ', bin(board))"
   ]
  },
  {
   "cell_type": "code",
   "execution_count": 94,
   "metadata": {},
   "outputs": [
    {
     "name": "stdout",
     "output_type": "stream",
     "text": "True\n"
    }
   ],
   "source": [
    "print(is_valid_move(board, 7))"
   ]
  },
  {
   "cell_type": "code",
   "execution_count": 106,
   "metadata": {},
   "outputs": [
    {
     "name": "stdout",
     "output_type": "stream",
     "text": "1\n"
    }
   ],
   "source": [
    "print(get_cell(board, 0))"
   ]
  },
  {
   "cell_type": "code",
   "execution_count": 117,
   "metadata": {},
   "outputs": [
    {
     "name": "stdout",
     "output_type": "stream",
     "text": "1\n"
    }
   ],
   "source": [
    "print(get_winner(board))"
   ]
  },
  {
   "cell_type": "code",
   "execution_count": 4,
   "metadata": {},
   "outputs": [
    {
     "name": "stdout",
     "output_type": "stream",
     "text": "0b110000000111101111110\n"
    }
   ],
   "source": [
    "test = 0b1_000000_001010_010101\n",
    "print(bin((test<<1) ^ (test<<2)))"
   ]
  },
  {
   "cell_type": "code",
   "execution_count": 9,
   "metadata": {},
   "outputs": [
    {
     "name": "stdout",
     "output_type": "stream",
     "text": "\n 0b1100101101010100110 \n 0b110010110101010011 \n 0b11001011010101001100 \n 0b11111111111111111111\n"
    }
   ],
   "source": [
    "test = 0b1_100101_101010_100110\n",
    "a = test\n",
    "b = test>>1\n",
    "c = test<<1\n",
    "print('\\n', bin(a), '\\n', bin(b), '\\n', bin(c), '\\n', bin(a^b|a^c))"
   ]
  },
  {
   "cell_type": "code",
   "execution_count": 118,
   "metadata": {},
   "outputs": [],
   "source": [
    "board_mask = 0b_0_111111_111111_111111\n",
    "def has_free_cells(board):\n",
    "    '''\n",
    "    # Isolate for the board information only\n",
    "    board = board & board_mask\n",
    "    # Shift the board left and right so we can compare\n",
    "    # the neighbouring X and O values\n",
    "    shifted_left = board<<1\n",
    "    shifted_right = board>>1\n",
    "    # This (hopefully) works because for each of the 'cells'\n",
    "    # only one bit can be 1 \n",
    "    # So as long as the bit to the left or right is 1, then\n",
    "    # that place on the board is taken\n",
    "    combined = shifted_left^board | shifted_right^board\n",
    "\n",
    "    if combined >= 0b_0_100000_000000_000000:\n",
    "        combined = combined // 2\n",
    "    \n",
    "    print(bin(combined))\n",
    "    # If all of the 'cells' are 1, then the board is full\n",
    "    return not combined == 0b11111_111111_111111\n",
    "    '''\n",
    "    return any([get_cell(board, i)==0 for i in range(9)])\n",
    ""
   ]
  },
  {
   "cell_type": "code",
   "execution_count": 120,
   "metadata": {},
   "outputs": [
    {
     "name": "stdout",
     "output_type": "stream",
     "text": "True\n"
    }
   ],
   "source": [
    "board = 0b1_010101_101010_100101\n",
    "print(has_free_cells(board))"
   ]
  },
  {
   "cell_type": "code",
   "execution_count": 37,
   "metadata": {},
   "outputs": [],
   "source": [
    "def get_one_hot_repr(board) :\n",
    "    # Isolate the board and pad zeros to the left so all\n",
    "    # binary representations are the same size\n",
    "    test1 = bin(board & board_mask)[2:]\n",
    "    test2 = test1.rjust(18, '0')\n",
    "    print(bin(board)); print(test1); print(test2)\n",
    "    board_binary = bin(board & board_mask)[2:].rjust(18, '0')\n",
    "    return [0 if c=='0' else 1 for c in board_binary]"
   ]
  },
  {
   "cell_type": "code",
   "execution_count": 38,
   "metadata": {},
   "outputs": [
    {
     "name": "stdout",
     "output_type": "stream",
     "text": "0b10\n10\n000000000000000010\n18 [0, 0, 0, 0, 0, 0, 0, 0, 0, 0, 0, 0, 0, 0, 0, 0, 1, 0]\n"
    }
   ],
   "source": [
    "output = get_one_hot_repr(0b_0_0000_0000_0000_0000_10)\n",
    "print(len(output), output)"
   ]
  },
  {
   "cell_type": "code",
   "execution_count": null,
   "metadata": {},
   "outputs": [],
   "source": []
  }
 ]
}